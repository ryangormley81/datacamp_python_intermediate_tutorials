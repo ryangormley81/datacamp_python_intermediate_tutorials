{
 "cells": [
  {
   "cell_type": "markdown",
   "metadata": {},
   "source": [
    "# pip3 install pandas\n",
    "used in teminal window to install and it transfered to jupyter notebook\n",
    "use pip3 to install packages\n"
   ]
  },
  {
   "cell_type": "markdown",
   "metadata": {},
   "source": [
    "# using pandas\n",
    "+ make the data frame cars\n",
    "+ label rows\n",
    "+ import a csv and make it a dataframe\n",
    "+ different ways to print information from a datframe"
   ]
  },
  {
   "cell_type": "code",
   "execution_count": null,
   "metadata": {},
   "outputs": [],
   "source": [
    "names = ['United States', 'Australia', 'Japan', 'India', 'Russia', 'Morocco', 'Egypt']\n",
    "dr =  [True, False, False, False, True, True, True]\n",
    "cpc = [809, 731, 588, 18, 200, 70, 45]\n",
    "\n",
    "\n",
    "import pandas as pd\n",
    "my_dict={'country':names, 'drives_right':dr, 'cars_per_cap':cpc}\n",
    "cars=pd.DataFrame(my_dict)\n",
    "print(cars)"
   ]
  },
  {
   "cell_type": "code",
   "execution_count": null,
   "metadata": {},
   "outputs": [],
   "source": [
    "row_labels = ['US', 'AUS', 'JAP', 'IN', 'RU', 'MOR', 'EG']\n",
    "cars.index=row_labels\n",
    "print(cars)"
   ]
  },
  {
   "cell_type": "code",
   "execution_count": null,
   "metadata": {},
   "outputs": [],
   "source": [
    "cars=pd.read_csv('cars.csv')\n",
    "print(cars)"
   ]
  },
  {
   "cell_type": "code",
   "execution_count": null,
   "metadata": {},
   "outputs": [],
   "source": [
    "cars = pd.read_csv('cars.csv', index_col=0)\n",
    "# Print out country column as Pandas Series\n",
    "print(cars['country'])\n",
    "# Print out country column as Pandas DataFrame\n",
    "print(cars[['country']])\n",
    "# Print out DataFrame with country and drives_right columns\n",
    "print(cars[['country','drives_right']])\n",
    "# Print out fourth, fifth and sixth observation\n",
    "print(cars[3:6])\n",
    "# Print out observation for Japan\n",
    "print(cars.loc['JAP'])\n",
    "# Print out observations for Australia and Egypt\n",
    "print(cars.iloc[[1,6]])\n",
    "# Print out drives_right value of Morocco\n",
    "print(cars.iloc[5,2])\n",
    "# Print sub-DataFrame\n",
    "print(cars.iloc[[4,5],[1,2]])\n",
    "# Print out drives_right column as Series\n",
    "print(cars.iloc[:,2])\n",
    "# Print out cars_per_cap and drives_right as DataFrame\n",
    "print(cars.iloc[:,[0,2]])"
   ]
  }
 ],
 "metadata": {
  "kernelspec": {
   "display_name": "Python 3",
   "language": "python",
   "name": "python3"
  },
  "language_info": {
   "codemirror_mode": {
    "name": "ipython",
    "version": 3
   },
   "file_extension": ".py",
   "mimetype": "text/x-python",
   "name": "python",
   "nbconvert_exporter": "python",
   "pygments_lexer": "ipython3",
   "version": "3.6.0"
  }
 },
 "nbformat": 4,
 "nbformat_minor": 2
}
