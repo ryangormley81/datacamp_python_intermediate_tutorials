{
 "cells": [
  {
   "cell_type": "markdown",
   "metadata": {},
   "source": [
    "# using booleans to sort specific data from dataframes\n",
    "### sorting arays using booleans and numpy"
   ]
  },
  {
   "cell_type": "code",
   "execution_count": null,
   "metadata": {},
   "outputs": [],
   "source": [
    "import numpy as np\n",
    "my_house = np.array([18.0, 20.0, 10.75, 9.50])\n",
    "your_house = np.array([14.0, 24.0, 14.25, 9.0])\n",
    "print(my_house>=18)\n",
    "print(my_house<your_house)\n",
    "\n",
    "import numpy as np\n",
    "my_house = np.array([18.0, 20.0, 10.75, 9.50])\n",
    "your_house = np.array([14.0, 24.0, 14.25, 9.0])\n",
    "\n",
    "print(np.logical_or(my_house>18.5 , my_house<10))\n",
    "print(np.logical_and(my_house<11 , your_house<11))"
   ]
  },
  {
   "cell_type": "markdown",
   "metadata": {},
   "source": [
    "### using booleans to make subset of data frames"
   ]
  },
  {
   "cell_type": "code",
   "execution_count": null,
   "metadata": {},
   "outputs": [],
   "source": [
    "import pandas as pd\n",
    "cars = pd.read_csv('cars.csv', index_col = 0)\n",
    "print(cars)\n",
    "# Extract drives_right column as Series: dr\n",
    "dr=cars['drives_right']\n",
    "# Use dr to subset cars: sel\n",
    "sel=cars[dr]\n",
    "print(sel)\n",
    "sel = cars[cars['drives_right']]\n",
    "\n",
    "cpc=cars[\"cars_per_cap\"]\n",
    "many_cars=cpc>500\n",
    "car_maniac=cars[many_cars]\n",
    "print(car_maniac)"
   ]
  }
 ],
 "metadata": {
  "kernelspec": {
   "display_name": "Python 3",
   "language": "python",
   "name": "python3"
  },
  "language_info": {
   "codemirror_mode": {
    "name": "ipython",
    "version": 3
   },
   "file_extension": ".py",
   "mimetype": "text/x-python",
   "name": "python",
   "nbconvert_exporter": "python",
   "pygments_lexer": "ipython3",
   "version": "3.6.0"
  }
 },
 "nbformat": 4,
 "nbformat_minor": 2
}
